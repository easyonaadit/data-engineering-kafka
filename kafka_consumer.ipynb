{
  "nbformat": 4,
  "nbformat_minor": 0,
  "metadata": {
    "colab": {
      "provenance": []
    },
    "kernelspec": {
      "name": "python3",
      "display_name": "Python 3"
    },
    "language_info": {
      "name": "python"
    }
  },
  "cells": [
    {
      "cell_type": "code",
      "execution_count": null,
      "metadata": {
        "id": "ZHKe2nwfA5Pd"
      },
      "outputs": [],
      "source": [
        "from kafka import KafkaConsumer\n",
        "from time import sleep\n",
        "from json import dumps, loads\n",
        "import json"
      ]
    },
    {
      "cell_type": "code",
      "source": [
        "consumer = KafkaConsumer('demo_test',\n",
        "                          bootsrap_server = ['54.196.207.41:9092'],\n",
        "                         value_deserializer = lambda x: loads(x.decode('utf-8'))\n",
        "                         )"
      ],
      "metadata": {
        "id": "LZNmHsqzWA6e"
      },
      "execution_count": null,
      "outputs": []
    },
    {
      "cell_type": "markdown",
      "source": [
        "loop through the consumer object"
      ],
      "metadata": {
        "id": "u1VHYBj9Wci4"
      }
    },
    {
      "cell_type": "code",
      "source": [
        "for c in consumer:\n",
        "  print(c.value)"
      ],
      "metadata": {
        "id": "ciWjxxFNWglH"
      },
      "execution_count": null,
      "outputs": []
    }
  ]
}